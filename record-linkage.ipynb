{
 "cells": [
  {
   "cell_type": "code",
   "execution_count": 1,
   "metadata": {
    "collapsed": false
   },
   "outputs": [],
   "source": [
    "import recordlinkage\n",
    "import pandas as pd\n",
    "from recordlinkage.standardise import clean\n",
    "import jellyfish"
   ]
  },
  {
   "cell_type": "code",
   "execution_count": 66,
   "metadata": {
    "collapsed": true
   },
   "outputs": [],
   "source": [
    "df_amazon = pd.read_csv(\"./data/amazon.csv\")\n",
    "df_ebay = pd.read_csv(\"./data/ebay.csv\")\n",
    "df_walmart = pd.read_csv(\"./data/walmart.csv\")"
   ]
  },
  {
   "cell_type": "code",
   "execution_count": 67,
   "metadata": {
    "collapsed": false
   },
   "outputs": [],
   "source": [
    "titles_a = pd.Series(df_amazon.Title)\n",
    "df_amazon.Title = clean(titles_a)\n",
    "titles_e = pd.Series(df_ebay.Title)\n",
    "df_ebay.Title = clean(titles_e)\n",
    "titles_w = pd.Series(df_walmart.Title)\n",
    "df_walmart.Title = clean(titles_w)"
   ]
  },
  {
   "cell_type": "code",
   "execution_count": 68,
   "metadata": {
    "collapsed": false
   },
   "outputs": [],
   "source": [
    "urls_a = df_amazon.URL.tolist()\n",
    "url_title_a = []\n",
    "for url in urls_a:\n",
    "    url_title_a.append(url.split(\"//\")[-1].split(\"/\")[1])\n",
    "df_amazon['URL_Title'] = clean(pd.Series(url_title_a))\n",
    "\n",
    "urls_e = df_ebay.URL.tolist()\n",
    "url_title_e = []\n",
    "for url in urls_e:\n",
    "    url_title_e.append(url.split(\"//\")[-1].split(\"/\")[2])\n",
    "df_ebay['URL_Title'] = clean(pd.Series(url_title_e))\n",
    "\n",
    "urls_w = df_walmart.URL.tolist()\n",
    "url_title_w = []\n",
    "for url in urls_w:\n",
    "    url_title_w.append(url.split(\"//\")[-1].split(\"/\")[2])\n",
    "df_walmart['URL_Title'] = clean(pd.Series(url_title_w))"
   ]
  },
  {
   "cell_type": "code",
   "execution_count": 6,
   "metadata": {
    "collapsed": false
   },
   "outputs": [],
   "source": [
    "products = recordlinkage.Pairs(df_amazon, df_ebay)\n",
    "candidates = products.qgram(on='Title',threshold=0.6)"
   ]
  },
  {
   "cell_type": "code",
   "execution_count": 58,
   "metadata": {
    "collapsed": true
   },
   "outputs": [],
   "source": [
    "products = recordlinkage.Pairs(df_walmart, df_ebay)\n",
    "candidates = products.qgram(on='Title',threshold=0.6)"
   ]
  },
  {
   "cell_type": "code",
   "execution_count": 69,
   "metadata": {
    "collapsed": false
   },
   "outputs": [],
   "source": [
    "products = recordlinkage.Pairs(df_amazon, df_walmart)\n",
    "candidates = products.qgram(on='Title',threshold=0.6)"
   ]
  },
  {
   "cell_type": "code",
   "execution_count": 7,
   "metadata": {
    "collapsed": false
   },
   "outputs": [],
   "source": [
    "comp = recordlinkage.Compare(candidates, df_amazon, df_ebay)"
   ]
  },
  {
   "cell_type": "code",
   "execution_count": 59,
   "metadata": {
    "collapsed": true
   },
   "outputs": [],
   "source": [
    "comp = recordlinkage.Compare(candidates, df_walmart, df_ebay)"
   ]
  },
  {
   "cell_type": "code",
   "execution_count": 70,
   "metadata": {
    "collapsed": true
   },
   "outputs": [],
   "source": [
    "comp = recordlinkage.Compare(candidates, df_amazon, df_walmart)"
   ]
  },
  {
   "cell_type": "code",
   "execution_count": 8,
   "metadata": {
    "collapsed": true
   },
   "outputs": [],
   "source": [
    "df_amazon.URL_Title=u\"{}\".format(df_amazon.URL_Title)\n",
    "df_ebay.URL_Title=u\"{}\".format(df_ebay.URL_Title)\n",
    "df_amazon.Title=u\"{}\".format(df_amazon.Title)\n",
    "df_ebay.Title=u\"{}\".format(df_ebay.Title)"
   ]
  },
  {
   "cell_type": "code",
   "execution_count": 60,
   "metadata": {
    "collapsed": true
   },
   "outputs": [],
   "source": [
    "df_walmart.URL_Title=u\"{}\".format(df_walmart.URL_Title)\n",
    "df_ebay.URL_Title=u\"{}\".format(df_ebay.URL_Title)\n",
    "df_walmart.Title=u\"{}\".format(df_walmart.Title)\n",
    "df_ebay.Title=u\"{}\".format(df_ebay.Title)"
   ]
  },
  {
   "cell_type": "code",
   "execution_count": 71,
   "metadata": {
    "collapsed": true
   },
   "outputs": [],
   "source": [
    "df_amazon.URL_Title=u\"{}\".format(df_amazon.URL_Title)\n",
    "df_walmart.URL_Title=u\"{}\".format(df_walmart.URL_Title)\n",
    "df_amazon.Title=u\"{}\".format(df_amazon.Title)\n",
    "df_walmart.Title=u\"{}\".format(df_walmart.Title)"
   ]
  },
  {
   "cell_type": "code",
   "execution_count": 72,
   "metadata": {
    "collapsed": false
   },
   "outputs": [
    {
     "data": {
      "text/plain": [
       "25   27     0.803459\n",
       "31   30     0.803459\n",
       "     31     0.803459\n",
       "     34     0.803459\n",
       "32   34     0.803459\n",
       "34   34     0.803459\n",
       "35   36     0.803459\n",
       "40   40     0.803459\n",
       "     43     0.803459\n",
       "46   25     0.803459\n",
       "     45     0.803459\n",
       "66   65     0.803459\n",
       "96   95     0.803459\n",
       "107  112    0.803459\n",
       "113  107    0.803459\n",
       "125  126    0.803459\n",
       "128  127    0.803459\n",
       "     129    0.803459\n",
       "130  134    0.803459\n",
       "139  135    0.803459\n",
       "184  177    0.803459\n",
       "193  187    0.803459\n",
       "     189    0.803459\n",
       "208  213    0.803459\n",
       "     218    0.803459\n",
       "209  204    0.803459\n",
       "213  208    0.803459\n",
       "216  213    0.803459\n",
       "217  215    0.803459\n",
       "     216    0.803459\n",
       "219  216    0.803459\n",
       "220  218    0.803459\n",
       "244  247    0.803459\n",
       "250  254    0.803459\n",
       "253  261    0.803459\n",
       "254  257    0.803459\n",
       "259  262    0.803459\n",
       "262  264    0.803459\n",
       "263  268    0.803459\n",
       "dtype: float64"
      ]
     },
     "execution_count": 72,
     "metadata": {},
     "output_type": "execute_result"
    }
   ],
   "source": [
    "comp.string('URL_Title','URL_Title',method='jarowinkler')"
   ]
  },
  {
   "cell_type": "code",
   "execution_count": 73,
   "metadata": {
    "collapsed": false
   },
   "outputs": [
    {
     "data": {
      "text/plain": [
       "25   27     0.828049\n",
       "31   30     0.828049\n",
       "     31     0.828049\n",
       "     34     0.828049\n",
       "32   34     0.828049\n",
       "34   34     0.828049\n",
       "35   36     0.828049\n",
       "40   40     0.828049\n",
       "     43     0.828049\n",
       "46   25     0.828049\n",
       "     45     0.828049\n",
       "66   65     0.828049\n",
       "96   95     0.828049\n",
       "107  112    0.828049\n",
       "113  107    0.828049\n",
       "125  126    0.828049\n",
       "128  127    0.828049\n",
       "     129    0.828049\n",
       "130  134    0.828049\n",
       "139  135    0.828049\n",
       "184  177    0.828049\n",
       "193  187    0.828049\n",
       "     189    0.828049\n",
       "208  213    0.828049\n",
       "     218    0.828049\n",
       "209  204    0.828049\n",
       "213  208    0.828049\n",
       "216  213    0.828049\n",
       "217  215    0.828049\n",
       "     216    0.828049\n",
       "219  216    0.828049\n",
       "220  218    0.828049\n",
       "244  247    0.828049\n",
       "250  254    0.828049\n",
       "253  261    0.828049\n",
       "254  257    0.828049\n",
       "259  262    0.828049\n",
       "262  264    0.828049\n",
       "263  268    0.828049\n",
       "dtype: float64"
      ]
     },
     "execution_count": 73,
     "metadata": {},
     "output_type": "execute_result"
    }
   ],
   "source": [
    "comp.string('Title','Title',method='jarowinkler')"
   ]
  },
  {
   "cell_type": "code",
   "execution_count": 74,
   "metadata": {
    "collapsed": false
   },
   "outputs": [],
   "source": [
    "kmeans = recordlinkage.KMeansClassifier()\n",
    "result_kmeans = kmeans.learn(comp.vectors,'series')"
   ]
  },
  {
   "cell_type": "code",
   "execution_count": 75,
   "metadata": {
    "collapsed": true
   },
   "outputs": [],
   "source": [
    "result_kmeans.to_csv('amazon-walmart.csv')"
   ]
  }
 ],
 "metadata": {
  "anaconda-cloud": {},
  "kernelspec": {
   "display_name": "Python [conda root]",
   "language": "python",
   "name": "conda-root-py"
  },
  "language_info": {
   "codemirror_mode": {
    "name": "ipython",
    "version": 2
   },
   "file_extension": ".py",
   "mimetype": "text/x-python",
   "name": "python",
   "nbconvert_exporter": "python",
   "pygments_lexer": "ipython2",
   "version": "2.7.12"
  }
 },
 "nbformat": 4,
 "nbformat_minor": 0
}
